{
 "cells": [
  {
   "cell_type": "code",
   "execution_count": 1,
   "metadata": {},
   "outputs": [
    {
     "name": "stdout",
     "output_type": "stream",
     "text": [
      "C:\\Users\\s.yamahira\\Documents\\ffmpeg-2020-12-27\\bin\n"
     ]
    }
   ],
   "source": [
    "import skvideo\n",
    "\n",
    "#WindowsにおけるFFmpeg import\n",
    "#https://stackoverflow.com/questions/63576454/skvideo-ffmpeg-cant-set-path-to-binaries\n",
    "ffmpeg_path=\"C:\\\\Users\\\\s.yamahira\\\\Documents\\\\ffmpeg-2020-12-27\\\\bin\"\n",
    "print(ffmpeg_path)\n",
    "skvideo.setFFmpegPath(ffmpeg_path)\n"
   ]
  },
  {
   "cell_type": "code",
   "execution_count": 2,
   "metadata": {},
   "outputs": [
    {
     "name": "stdout",
     "output_type": "stream",
     "text": [
      "1081\n",
      "54\n"
     ]
    }
   ],
   "source": [
    "\n",
    "import cv2,os\n",
    "import skvideo.io\n",
    "import skvideo.datasets\n",
    "\n",
    "save_folder = \"./ext_frames\"\n",
    "if not os.path.exists(save_folder):\n",
    "    os.mkdir(save_folder)\n",
    "\n",
    "\n",
    "video_path = \"./ZEISS Axio Observer_ HEK 293 cell culture, long-term time lapse microscopy.mp4\"\n",
    "videogen = skvideo.io.vreader(video_path)\n",
    "\n",
    "metadata = skvideo.io.ffprobe(video_path)\n",
    "frame_count = metadata[\"video\"]['@nb_frames']\n",
    "print(frame_count)\n",
    "\n",
    "ext_num = 20\n",
    "\n",
    "interval = int(frame_count)//ext_num\n",
    "print(interval)"
   ]
  },
  {
   "cell_type": "code",
   "execution_count": 3,
   "metadata": {},
   "outputs": [
    {
     "name": "stdout",
     "output_type": "stream",
     "text": [
      "54 (720, 1280, 3)\n",
      "108 (720, 1280, 3)\n",
      "162 (720, 1280, 3)\n",
      "216 (720, 1280, 3)\n",
      "270 (720, 1280, 3)\n",
      "324 (720, 1280, 3)\n",
      "378 (720, 1280, 3)\n",
      "432 (720, 1280, 3)\n",
      "486 (720, 1280, 3)\n",
      "540 (720, 1280, 3)\n",
      "594 (720, 1280, 3)\n",
      "648 (720, 1280, 3)\n",
      "702 (720, 1280, 3)\n",
      "756 (720, 1280, 3)\n",
      "810 (720, 1280, 3)\n",
      "864 (720, 1280, 3)\n",
      "918 (720, 1280, 3)\n",
      "972 (720, 1280, 3)\n",
      "1026 (720, 1280, 3)\n",
      "1080 (720, 1280, 3)\n"
     ]
    }
   ],
   "source": [
    "count = 0\n",
    "for frame in videogen:\n",
    "        \n",
    "        count +=1\n",
    "        if count % interval==0:\n",
    "            print(count,frame.shape)\n",
    "            img_name=str(count)+\".png\"\n",
    "            save_img = os.path.join(save_folder,img_name)\n",
    "            cv2.imwrite(save_img,frame)"
   ]
  }
 ],
 "metadata": {
  "kernelspec": {
   "display_name": "Python 3",
   "language": "python",
   "name": "python3"
  },
  "language_info": {
   "codemirror_mode": {
    "name": "ipython",
    "version": 3
   },
   "file_extension": ".py",
   "mimetype": "text/x-python",
   "name": "python",
   "nbconvert_exporter": "python",
   "pygments_lexer": "ipython3",
   "version": "3.8.3"
  }
 },
 "nbformat": 4,
 "nbformat_minor": 4
}
